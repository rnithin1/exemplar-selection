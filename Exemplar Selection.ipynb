{
 "cells": [
  {
   "cell_type": "code",
   "execution_count": 1,
   "metadata": {},
   "outputs": [],
   "source": [
    "import numpy as np\n",
    "import cvxpy as cp\n",
    "from sklearn.feature_extraction.text import CountVectorizer"
   ]
  },
  {
   "cell_type": "markdown",
   "metadata": {},
   "source": [
    "# Tweet preprocessing"
   ]
  },
  {
   "cell_type": "markdown",
   "metadata": {},
   "source": [
    "Tweets obtained using the code from [this repository](https://github.com/rnithin1/download-tweets/blob/master/why-does-twitter-make-me-do-this.py)"
   ]
  },
  {
   "cell_type": "code",
   "execution_count": 2,
   "metadata": {},
   "outputs": [],
   "source": [
    "import pandas as pd\n",
    "import string\n",
    "import re"
   ]
  },
  {
   "cell_type": "code",
   "execution_count": 3,
   "metadata": {},
   "outputs": [],
   "source": [
    "df = pd.read_csv(\"realdonaldtrump.csv\")['0']"
   ]
  },
  {
   "cell_type": "code",
   "execution_count": 4,
   "metadata": {},
   "outputs": [],
   "source": [
    "df = df.apply(lambda x: re.sub(r'http\\S+', '', x))                                               # Get rid of URLs\n",
    "df = df.apply(lambda x: re.sub(r'RT', '', x))                                                      # Get rid of RT\n",
    "df = df.apply(lambda x: ' '.join(filter(lambda y: y[0] != '@', x.split())))             # Get rid of @'s\n",
    "df = df.apply(lambda x: x.translate(str.maketrans('', '', string.digits)))             # Get rid of numbers\n",
    "df = df.apply(lambda x: x.encode('ascii', 'ignore').decode('ascii'))                  # Get rid of emojis\n",
    "df = df.apply(lambda x: x.strip())                                                                     # Get rid of excess whitespace\n",
    "df = df.apply(lambda x: x.translate(str.maketrans('', '', string.punctuation)))   # Get rid of punctuation\n",
    "df.replace('', np.nan, inplace=True)                                                                 # Drop empty strings\n",
    "df.dropna(inplace=True)\n",
    "df = df.reset_index()['0']"
   ]
  },
  {
   "cell_type": "code",
   "execution_count": 5,
   "metadata": {},
   "outputs": [],
   "source": [
    "corpus = df.values\n",
    "vectorizer = CountVectorizer(stop_words='english')\n",
    "X = vectorizer.fit_transform(corpus)"
   ]
  },
  {
   "cell_type": "markdown",
   "metadata": {},
   "source": [
    "# Second-Order Cone Program"
   ]
  },
  {
   "cell_type": "markdown",
   "metadata": {},
   "source": [
    "Now that we have our processed tweets in the form of an array, we'll try to solve the following convex optimization problem using CVXPY (which can be posed as an SOCP):"
   ]
  },
  {
   "cell_type": "markdown",
   "metadata": {},
   "source": [
    "$\\text{arg min}_W \\Vert X - XW^\\top \\Vert_F : \\sum_{i=1}^{n} \\Vert w_i \\Vert_2 \\leq \\kappa$"
   ]
  },
  {
   "cell_type": "markdown",
   "metadata": {},
   "source": [
    "Where $\\kappa$ is a hyperparameter close to zero, to encourage many of W's columns to be zero."
   ]
  },
  {
   "cell_type": "code",
   "execution_count": 6,
   "metadata": {},
   "outputs": [
    {
     "name": "stdout",
     "output_type": "stream",
     "text": [
      "(965, 3011)\n"
     ]
    }
   ],
   "source": [
    "X = X.astype(np.double)\n",
    "n, m = X.toarray().shape\n",
    "print((n, m))"
   ]
  },
  {
   "cell_type": "code",
   "execution_count": 7,
   "metadata": {},
   "outputs": [],
   "source": [
    "kappa = cp.Variable()\n",
    "kappas = [cp.Variable() for _ in range(m)]\n",
    "W = cp.Variable((m, m))"
   ]
  },
  {
   "cell_type": "code",
   "execution_count": 8,
   "metadata": {},
   "outputs": [],
   "source": [
    "soc_constraints = []\n",
    "soc_constraints.append(kappa == 1)\n",
    "soc_constraints.append(sum(kappas) <= kappa)\n",
    "soc_constraints.extend([cp.SOC(kappas[i], W.T[i]) for i in range(m)])"
   ]
  },
  {
   "cell_type": "code",
   "execution_count": 9,
   "metadata": {},
   "outputs": [],
   "source": [
    "prob = cp.Problem(cp.Minimize(cp.norm(X - X @ W.T, \"fro\")), soc_constraints)"
   ]
  },
  {
   "cell_type": "code",
   "execution_count": null,
   "metadata": {},
   "outputs": [],
   "source": [
    "prob.solve()"
   ]
  },
  {
   "cell_type": "code",
   "execution_count": null,
   "metadata": {},
   "outputs": [],
   "source": []
  },
  {
   "cell_type": "code",
   "execution_count": null,
   "metadata": {},
   "outputs": [],
   "source": []
  },
  {
   "cell_type": "code",
   "execution_count": null,
   "metadata": {},
   "outputs": [],
   "source": []
  },
  {
   "cell_type": "code",
   "execution_count": null,
   "metadata": {},
   "outputs": [],
   "source": []
  }
 ],
 "metadata": {
  "kernelspec": {
   "display_name": "Python 3",
   "language": "python",
   "name": "python3"
  },
  "language_info": {
   "codemirror_mode": {
    "name": "ipython",
    "version": 3
   },
   "file_extension": ".py",
   "mimetype": "text/x-python",
   "name": "python",
   "nbconvert_exporter": "python",
   "pygments_lexer": "ipython3",
   "version": "3.6.7"
  }
 },
 "nbformat": 4,
 "nbformat_minor": 2
}
